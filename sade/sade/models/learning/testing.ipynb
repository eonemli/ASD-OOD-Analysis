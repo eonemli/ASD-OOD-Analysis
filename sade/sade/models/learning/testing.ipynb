{
 "cells": [
  {
   "cell_type": "code",
   "execution_count": 1,
   "id": "5dbc94df",
   "metadata": {},
   "outputs": [],
   "source": [
    "%load_ext autoreload\n",
    "%autoreload 2\n"
   ]
  },
  {
   "cell_type": "code",
   "execution_count": 2,
   "id": "efcbc8fe",
   "metadata": {},
   "outputs": [
    {
     "data": {
      "text/plain": [
       "act: memswish\n",
       "blocks_down: !!python/tuple\n",
       "- 1\n",
       "- 2\n",
       "- 1\n",
       "blocks_up: !!python/tuple\n",
       "- 1\n",
       "- 1\n",
       "conv_size: 3\n",
       "dilation: 1\n",
       "dropout: 0.0\n",
       "ema_rate: 0.9999\n",
       "embedding_type: fourier\n",
       "fourier_scale: 2.0\n",
       "init_scale: 0.0\n",
       "jit: false\n",
       "learnable_embedding: false\n",
       "name: ncsnpp3d\n",
       "nf: 8\n",
       "norm_num_groups: 2\n",
       "num_scales: 10\n",
       "resblock_pp: true\n",
       "resblock_type: biggan\n",
       "scale_by_sigma: true\n",
       "self_attention: false\n",
       "sigma_max: 274.0\n",
       "sigma_min: 0.03\n",
       "time_embedding_sz: 32"
      ]
     },
     "execution_count": 2,
     "metadata": {},
     "output_type": "execute_result"
    }
   ],
   "source": [
    "import torch\n",
    "from torchinfo import summary\n",
    "from sade.configs.ve import toy_config\n",
    "\n",
    "config = toy_config.get_config()\n",
    "config.model"
   ]
  },
  {
   "cell_type": "code",
   "execution_count": 3,
   "id": "2d58e449",
   "metadata": {},
   "outputs": [
    {
     "name": "stderr",
     "output_type": "stream",
     "text": [
      "2023-09-14 14:48:51.679719: W tensorflow/stream_executor/platform/default/dso_loader.cc:64] Could not load dynamic library 'libcudart.so.11.0'; dlerror: libcudart.so.11.0: cannot open shared object file: No such file or directory; LD_LIBRARY_PATH: /usr/local/lib/python3.10/dist-packages/torch/lib:/usr/local/lib/python3.10/dist-packages/torch_tensorrt/lib:/usr/local/cuda/compat/lib:/usr/local/nvidia/lib:/usr/local/nvidia/lib64\n",
      "2023-09-14 14:48:51.679737: I tensorflow/stream_executor/cuda/cudart_stub.cc:29] Ignore above cudart dlerror if you do not have a GPU set up on your machine.\n"
     ]
    },
    {
     "name": "stdout",
     "output_type": "stream",
     "text": [
      "Embedding shape: torch.Size([3, 32])\n"
     ]
    },
    {
     "data": {
      "text/plain": [
       "torch.Size([3, 2, 16, 16, 16])"
      ]
     },
     "execution_count": 3,
     "metadata": {},
     "output_type": "execute_result"
    }
   ],
   "source": [
    "from sade.models.learning.toynet import ToyNet\n",
    "model = ToyNet(config)\n",
    "N=3\n",
    "H=W=D = 16\n",
    "x = torch.zeros(N, 2, H,W,D)\n",
    "s = torch.ones(N, 1)\n",
    "model(x,s).shape"
   ]
  },
  {
   "cell_type": "code",
   "execution_count": 7,
   "id": "b71783c4",
   "metadata": {},
   "outputs": [
    {
     "name": "stdout",
     "output_type": "stream",
     "text": [
      "Embedding shape: torch.Size([3, 32])\n"
     ]
    },
    {
     "data": {
      "text/plain": [
       "==========================================================================================\n",
       "Layer (type:depth-idx)                   Output Shape              Param #\n",
       "==========================================================================================\n",
       "ToyNet                                   [3, 2, 16, 16, 16]        --\n",
       "├─Conv3d: 1-1                            [3, 8, 16, 16, 16]        24\n",
       "├─GaussianFourierProjection: 1-2         [3, 32]                   (16)\n",
       "├─ResnetBlockBigGANpp: 1-3               [3, 8, 16, 16, 16]        4,032\n",
       "├─ResnetBlockBigGANpp: 1-4               [3, 8, 8, 8, 8]           5,768\n",
       "├─Upsample: 1-5                          [3, 8, 16, 16, 16]        --\n",
       "├─ResnetBlockBigGANpp: 1-6               [3, 8, 16, 16, 16]        4,032\n",
       "├─Conv3d: 1-7                            [3, 2, 16, 16, 16]        18\n",
       "==========================================================================================\n",
       "Total params: 13,890\n",
       "Trainable params: 13,874\n",
       "Non-trainable params: 16\n",
       "Total mult-adds (M): 93.85\n",
       "==========================================================================================\n",
       "Input size (MB): 0.10\n",
       "Forward/backward pass size (MB): 7.77\n",
       "Params size (MB): 0.06\n",
       "Estimated Total Size (MB): 7.92\n",
       "=========================================================================================="
      ]
     },
     "execution_count": 7,
     "metadata": {},
     "output_type": "execute_result"
    }
   ],
   "source": [
    "summary(model, input_data=(x,s), depth=1)"
   ]
  },
  {
   "cell_type": "code",
   "execution_count": 5,
   "id": "d4113625",
   "metadata": {},
   "outputs": [],
   "source": [
    "upl = torch.nn.Upsample(scale_factor=2)"
   ]
  },
  {
   "cell_type": "code",
   "execution_count": 6,
   "id": "9b51ef9a",
   "metadata": {},
   "outputs": [
    {
     "data": {
      "text/plain": [
       "torch.Size([3, 2, 32, 32, 32])"
      ]
     },
     "execution_count": 6,
     "metadata": {},
     "output_type": "execute_result"
    }
   ],
   "source": [
    "upl(x).shape"
   ]
  },
  {
   "cell_type": "code",
   "execution_count": null,
   "id": "cd1ecab3",
   "metadata": {},
   "outputs": [],
   "source": []
  }
 ],
 "metadata": {
  "kernelspec": {
   "display_name": "Python 3 (ipykernel)",
   "language": "python",
   "name": "python3"
  },
  "language_info": {
   "codemirror_mode": {
    "name": "ipython",
    "version": 3
   },
   "file_extension": ".py",
   "mimetype": "text/x-python",
   "name": "python",
   "nbconvert_exporter": "python",
   "pygments_lexer": "ipython3",
   "version": "3.10.6"
  }
 },
 "nbformat": 4,
 "nbformat_minor": 5
}
