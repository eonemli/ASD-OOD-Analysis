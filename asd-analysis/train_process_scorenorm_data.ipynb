{
 "cells": [
  {
   "cell_type": "code",
   "execution_count": null,
   "id": "cff3e2a0",
   "metadata": {},
   "outputs": [],
   "source": [
    "import numpy as np"
   ]
  },
  {
   "cell_type": "code",
   "execution_count": null,
   "id": "011c5f7b",
   "metadata": {},
   "outputs": [],
   "source": [
    "parent_folder = '../braintypicality/workdir/cuda_opt/learnable/experiments/reprod-correct'"
   ]
  },
  {
   "cell_type": "code",
   "execution_count": null,
   "id": "49df3b8b",
   "metadata": {},
   "outputs": [],
   "source": [
    "%ls $parent_folder"
   ]
  },
  {
   "cell_type": "code",
   "execution_count": null,
   "id": "e7992bda",
   "metadata": {},
   "outputs": [],
   "source": [
    "!find '../braintypicality/workdir/cuda_opt/learnable/experiments/reprod-correct' -mindepth 1 -maxdepth 1 -type d -exec sh -c 'echo \"$(find \"{}\" -type f | wc -l) {}\"' \\; | awk -F'/' '{print $1, $NF}' | sort -nr"
   ]
  },
  {
   "cell_type": "code",
   "execution_count": null,
   "id": "3e0eda84",
   "metadata": {},
   "outputs": [],
   "source": [
    "# example data file\n",
    "data = np.load('../braintypicality/workdir/cuda_opt/learnable/experiments/reprod-correct/ibis-ds-sa/IBIS105477.npz')\n",
    "data.files"
   ]
  },
  {
   "cell_type": "code",
   "execution_count": null,
   "id": "d06a70a8",
   "metadata": {},
   "outputs": [],
   "source": [
    "data['score_norms'].shape\n",
    "# score norms --> GHSOM"
   ]
  },
  {
   "cell_type": "code",
   "execution_count": null,
   "id": "15fab6da",
   "metadata": {},
   "outputs": [],
   "source": [
    "data['original'].shape\n",
    "# images"
   ]
  },
  {
   "cell_type": "code",
   "execution_count": null,
   "id": "c822c97a",
   "metadata": {},
   "outputs": [],
   "source": [
    "data['scores'].shape\n",
    "# raw scores for MSMA (take the norm --> score norm --> GHSOM)"
   ]
  },
  {
   "cell_type": "code",
   "execution_count": null,
   "id": "77c20a1b",
   "metadata": {},
   "outputs": [],
   "source": [
    "data['heatmap'].shape\n",
    "# spatial-MSMA likelihood. per voxel."
   ]
  },
  {
   "cell_type": "code",
   "execution_count": null,
   "id": "ea57cae8",
   "metadata": {},
   "outputs": [],
   "source": [
    "!ls \"/ASD/ahsan_projects/braintypicality/workdir/cuda_opt/learnable/experiments/reprod-correct/ibis-inlier\" | wc -l"
   ]
  },
  {
   "cell_type": "code",
   "execution_count": null,
   "id": "d2db63d0",
   "metadata": {},
   "outputs": [],
   "source": [
    "!find '/ASD2/emre_projects/OOD/braintypicality2/braintypicality/workdir/cuda_opt/learnable/experiments/reprod-correct' -mindepth 1 -maxdepth 1 -type d -exec sh -c 'echo \"$(find \"{}\" -type f | wc -l) {}\"' \\; | awk -F'/' '{print $1, $NF}' | sort -nr"
   ]
  },
  {
   "cell_type": "code",
   "execution_count": null,
   "id": "22b92156",
   "metadata": {},
   "outputs": [],
   "source": [
    "from prada.data_process import process_folder\n",
    "\n",
    "# Define the parent folder and the subfolders\n",
    "#parent_folder = \"/ASD2/emre_projects/OOD/braintypicality2/braintypicality/workdir/cuda_opt/learnable/experiments/default-ckpt-150\"  # Replace with your parent folder path\n",
    "parent_folder = parent_folder\n",
    "folders = [\"abcd-val\", \"abcd-test\", \"ibis-asd\", \"ibis-atypical\", \"ibis-ds-sa\", \"ibis-hr-inliers\", \"ibis-inlier\"] # you can add more folders as needed (such as conte)\n",
    "#properties = ['original', 'heatmap', 'scores', 'score_norms', 'identifier']\n",
    "properties = ['score_norms', 'identifier']\n",
    "\n",
    "# Create a dictionary to hold the combined data for each property\n",
    "combined_data = {prop: {} for prop in properties}\n",
    "\n",
    "# Process each folder and store the results\n",
    "for folder in folders:\n",
    "    folder_results = process_folder(folder,parent_folder,properties)\n",
    "    for prop in properties:\n",
    "        combined_data[prop][folder] = folder_results[prop]\n",
    "\n",
    "# Access your combined data, e.g., score_norms_abcd_val:\n",
    "#score_norms_abcd_val = combined_data['score_norms']['abcd-val']"
   ]
  },
  {
   "cell_type": "code",
   "execution_count": null,
   "id": "3b2527b5",
   "metadata": {},
   "outputs": [],
   "source": [
    "import pickle\n",
    "\n",
    "# Save combined_data using pickle\n",
    "with open('combined_data_score_norms_v2.pkl', 'wb') as file:\n",
    "    pickle.dump(combined_data, file)"
   ]
  },
  {
   "cell_type": "code",
   "execution_count": null,
   "id": "45cf8f48",
   "metadata": {},
   "outputs": [],
   "source": []
  },
  {
   "cell_type": "code",
   "execution_count": null,
   "id": "5e18f303",
   "metadata": {},
   "outputs": [],
   "source": []
  },
  {
   "cell_type": "code",
   "execution_count": null,
   "id": "cc2f9f47",
   "metadata": {},
   "outputs": [],
   "source": []
  }
 ],
 "metadata": {
  "language_info": {
   "name": "python"
  }
 },
 "nbformat": 4,
 "nbformat_minor": 5
}
